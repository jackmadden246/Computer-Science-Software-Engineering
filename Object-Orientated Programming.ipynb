{
 "cells": [
  {
   "cell_type": "markdown",
   "id": "b47debef",
   "metadata": {},
   "source": [
    "Object-Orientated Programming "
   ]
  },
  {
   "cell_type": "code",
   "execution_count": 1,
   "id": "83484ba7",
   "metadata": {},
   "outputs": [],
   "source": [
    "class Parrot:\n",
    "    # class attribute\n",
    "    species = \"bird\"\n",
    "    \n",
    "    #instance attribute\n",
    "    def __init__(self, name, age):\n",
    "        self.name = name\n",
    "        self.age = age"
   ]
  },
  {
   "cell_type": "code",
   "execution_count": 2,
   "id": "359a6a8a",
   "metadata": {},
   "outputs": [],
   "source": [
    "blur = Parrot(\"Blur\", 14) # different attributes"
   ]
  },
  {
   "cell_type": "code",
   "execution_count": 3,
   "id": "8beb843f",
   "metadata": {},
   "outputs": [],
   "source": [
    "woody = Parrot(\"Woody\", 5) # name and age "
   ]
  },
  {
   "cell_type": "code",
   "execution_count": 4,
   "id": "e69ab9dc",
   "metadata": {},
   "outputs": [
    {
     "name": "stdout",
     "output_type": "stream",
     "text": [
      "bird\n"
     ]
    }
   ],
   "source": [
    "print(blur.species)"
   ]
  },
  {
   "cell_type": "code",
   "execution_count": 5,
   "id": "4ee2787a",
   "metadata": {},
   "outputs": [
    {
     "name": "stdout",
     "output_type": "stream",
     "text": [
      "bird\n"
     ]
    }
   ],
   "source": [
    "print(blur.__class__.species)"
   ]
  },
  {
   "cell_type": "code",
   "execution_count": 6,
   "id": "024f1973",
   "metadata": {},
   "outputs": [
    {
     "name": "stdout",
     "output_type": "stream",
     "text": [
      "Blur is 14 years old\n"
     ]
    }
   ],
   "source": [
    "print('{} is {} years old'.format(blur.name, blur.age))"
   ]
  },
  {
   "cell_type": "code",
   "execution_count": 7,
   "id": "746e2d88",
   "metadata": {},
   "outputs": [],
   "source": [
    "class Language:\n",
    "    def __init__(self, person, comfort, country):\n",
    "        self.person = person\n",
    "        self.comfort = comfort\n",
    "        self.country = country\n",
    "        \n",
    "    def education_level(self):\n",
    "        print(f'{self.person} is at {self.comfort} comfort level')"
   ]
  },
  {
   "cell_type": "code",
   "execution_count": 8,
   "id": "a1872ca2",
   "metadata": {},
   "outputs": [],
   "source": [
    "class Irish(Language):\n",
    "    # class attribute\n",
    "    language = \"irish\"\n",
    "    # instance attribute\n",
    "    def learn_more(self):\n",
    "        print(f'{self.person} is doing self study')"
   ]
  },
  {
   "cell_type": "code",
   "execution_count": 9,
   "id": "2b234545",
   "metadata": {},
   "outputs": [],
   "source": [
    "Thomas = Irish(\"Thomas\", \"beginner\", \"United Kingdom\")"
   ]
  },
  {
   "cell_type": "code",
   "execution_count": 10,
   "id": "504867f0",
   "metadata": {},
   "outputs": [
    {
     "name": "stdout",
     "output_type": "stream",
     "text": [
      "Thomas is doing self study\n"
     ]
    }
   ],
   "source": [
    "Thomas.learn_more()"
   ]
  },
  {
   "cell_type": "code",
   "execution_count": 11,
   "id": "5fd37a7f",
   "metadata": {},
   "outputs": [
    {
     "name": "stdout",
     "output_type": "stream",
     "text": [
      "Thomas is at beginner comfort level\n"
     ]
    }
   ],
   "source": [
    "Thomas.education_level()"
   ]
  },
  {
   "cell_type": "code",
   "execution_count": 12,
   "id": "e34c2ca2",
   "metadata": {},
   "outputs": [],
   "source": [
    "class Spanish(Language):\n",
    "    # class attribute\n",
    "    language = 'Spanish'\n",
    "    # instance attribute\n",
    "    def work_with_kahoot(self):\n",
    "        print(f'{self.person} is not utilising their kahoot to enhance their learning')\n",
    "    \n",
    "    def __init__(self, person, learning_time, future_plan):\n",
    "        self.person = person\n",
    "        self.learning_time = learning_time\n",
    "        self.future_plan = future_plan\n",
    "        "
   ]
  },
  {
   "cell_type": "code",
   "execution_count": 13,
   "id": "33f34798",
   "metadata": {},
   "outputs": [],
   "source": [
    "Herra = Spanish('Herra', 55, 'travel to Norway')"
   ]
  },
  {
   "cell_type": "code",
   "execution_count": 14,
   "id": "07a16073",
   "metadata": {},
   "outputs": [
    {
     "data": {
      "text/plain": [
       "55"
      ]
     },
     "execution_count": 14,
     "metadata": {},
     "output_type": "execute_result"
    }
   ],
   "source": [
    "Herra.learning_time"
   ]
  },
  {
   "cell_type": "code",
   "execution_count": 15,
   "id": "ef494efc",
   "metadata": {},
   "outputs": [
    {
     "data": {
      "text/plain": [
       "'travel to Norway'"
      ]
     },
     "execution_count": 15,
     "metadata": {},
     "output_type": "execute_result"
    }
   ],
   "source": [
    "Herra.future_plan"
   ]
  },
  {
   "cell_type": "code",
   "execution_count": 16,
   "id": "f9213107",
   "metadata": {},
   "outputs": [
    {
     "data": {
      "text/plain": [
       "'Spanish'"
      ]
     },
     "execution_count": 16,
     "metadata": {},
     "output_type": "execute_result"
    }
   ],
   "source": [
    "Herra.language"
   ]
  },
  {
   "cell_type": "code",
   "execution_count": 17,
   "id": "ac673959",
   "metadata": {},
   "outputs": [
    {
     "name": "stdout",
     "output_type": "stream",
     "text": [
      "Herra is not utilising their kahoot to enhance their learning\n"
     ]
    }
   ],
   "source": [
    "Herra.work_with_kahoot()"
   ]
  },
  {
   "cell_type": "code",
   "execution_count": null,
   "id": "9073d794",
   "metadata": {},
   "outputs": [],
   "source": []
  }
 ],
 "metadata": {
  "kernelspec": {
   "display_name": "Python 3 (ipykernel)",
   "language": "python",
   "name": "python3"
  },
  "language_info": {
   "codemirror_mode": {
    "name": "ipython",
    "version": 3
   },
   "file_extension": ".py",
   "mimetype": "text/x-python",
   "name": "python",
   "nbconvert_exporter": "python",
   "pygments_lexer": "ipython3",
   "version": "3.9.12"
  }
 },
 "nbformat": 4,
 "nbformat_minor": 5
}
