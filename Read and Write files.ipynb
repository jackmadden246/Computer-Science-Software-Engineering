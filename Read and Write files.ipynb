{
 "cells": [
  {
   "cell_type": "code",
   "execution_count": 1,
   "id": "0b3505c9",
   "metadata": {},
   "outputs": [],
   "source": [
    "f = open('C:/Users/JackMadden/OneDrive - JCW Resourcing/Documents/hello world.txt','r')"
   ]
  },
  {
   "cell_type": "code",
   "execution_count": 2,
   "id": "f1192121",
   "metadata": {},
   "outputs": [],
   "source": [
    "for line in f:\n",
    "    print(line)"
   ]
  },
  {
   "cell_type": "code",
   "execution_count": 3,
   "id": "1dd76ad8",
   "metadata": {},
   "outputs": [
    {
     "name": "stdout",
     "output_type": "stream",
     "text": [
      "\n"
     ]
    }
   ],
   "source": [
    "print(f.read())"
   ]
  },
  {
   "cell_type": "code",
   "execution_count": 4,
   "id": "000d0b78",
   "metadata": {},
   "outputs": [],
   "source": [
    "f.close()"
   ]
  },
  {
   "cell_type": "code",
   "execution_count": 5,
   "id": "b8d7b29c",
   "metadata": {},
   "outputs": [],
   "source": [
    "f = open('C:/Users/JackMadden/OneDrive - JCW Resourcing/Documents/hello world.txt','w')"
   ]
  },
  {
   "cell_type": "code",
   "execution_count": 6,
   "id": "bf72e6d9",
   "metadata": {},
   "outputs": [
    {
     "data": {
      "text/plain": [
       "37"
      ]
     },
     "execution_count": 6,
     "metadata": {},
     "output_type": "execute_result"
    }
   ],
   "source": [
    "f.write(\"I will go for a walk if I feel sad /n\")"
   ]
  },
  {
   "cell_type": "code",
   "execution_count": 7,
   "id": "3a1a237c",
   "metadata": {},
   "outputs": [
    {
     "data": {
      "text/plain": [
       "42"
      ]
     },
     "execution_count": 7,
     "metadata": {},
     "output_type": "execute_result"
    }
   ],
   "source": [
    "f.write(\"I will not go for a walk if I'm at work /n\")"
   ]
  },
  {
   "cell_type": "code",
   "execution_count": 8,
   "id": "feca3378",
   "metadata": {},
   "outputs": [],
   "source": [
    "f.close()"
   ]
  },
  {
   "cell_type": "code",
   "execution_count": 9,
   "id": "afb1af5d",
   "metadata": {},
   "outputs": [],
   "source": [
    "f = open('C:/Users/JackMadden/OneDrive - JCW Resourcing/Documents/hello world.txt','a')"
   ]
  },
  {
   "cell_type": "code",
   "execution_count": 10,
   "id": "c5278183",
   "metadata": {},
   "outputs": [
    {
     "data": {
      "text/plain": [
       "32"
      ]
     },
     "execution_count": 10,
     "metadata": {},
     "output_type": "execute_result"
    }
   ],
   "source": [
    "f.write(\"I will walk my dog if I fancy /n\")"
   ]
  },
  {
   "cell_type": "code",
   "execution_count": 11,
   "id": "3e546e84",
   "metadata": {},
   "outputs": [],
   "source": [
    "f.close()"
   ]
  },
  {
   "cell_type": "code",
   "execution_count": 12,
   "id": "494c194b",
   "metadata": {},
   "outputs": [],
   "source": [
    "with open('C:/Users/JackMadden/OneDrive - JCW Resourcing/Documents/hello world.txt','w') as f:\n",
    "    f.write(\"Hello World!!!\")"
   ]
  },
  {
   "cell_type": "code",
   "execution_count": 27,
   "id": "90453479",
   "metadata": {},
   "outputs": [
    {
     "name": "stdout",
     "output_type": "stream",
     "text": [
      "['Hello', 'World!!!']\n",
      "['tod', 'y is Wednesd', 'y ', 'nd the l', 'st d', 'y of the week is Frid', 'y']\n"
     ]
    }
   ],
   "source": [
    "with open('C:/Users/JackMadden/OneDrive - JCW Resourcing/Documents/hello world.txt','r') as f:\n",
    "    data = f.readlines()\n",
    "    \n",
    "    for line in data:\n",
    "        word = line.split()\n",
    "        print(word)\n",
    "a = \"today is Wednesday and the last day of the week is Friday\"\n",
    "print(a.split(\"a\"))"
   ]
  },
  {
   "cell_type": "code",
   "execution_count": 28,
   "id": "92900e71",
   "metadata": {},
   "outputs": [],
   "source": [
    "import csv "
   ]
  },
  {
   "cell_type": "code",
   "execution_count": 30,
   "id": "4a51fb82",
   "metadata": {},
   "outputs": [
    {
     "name": "stdout",
     "output_type": "stream",
     "text": [
      "['{E7B085FB-CB36-7E31-E053-6C04A8C0E67F}', '580000', '2003-07-10 00:00', 'RG20 8SR', 'D', 'N', 'F', 'SOUTH STANMORE BARN', '', 'STANMORE', 'BEEDON', 'NEWBURY', 'WEST BERKSHIRE', 'WEST BERKSHIRE', 'A', 'A']\n"
     ]
    }
   ],
   "source": [
    "file = open(\"C:/Users/JackMadden/OneDrive - JCW Resourcing/Documents/pp.csv\")\n",
    "csvreader = csv.reader(file)\n",
    "header = next(csvreader)\n",
    "print(header)"
   ]
  },
  {
   "cell_type": "code",
   "execution_count": null,
   "id": "72ac9102",
   "metadata": {},
   "outputs": [],
   "source": []
  }
 ],
 "metadata": {
  "kernelspec": {
   "display_name": "Python 3 (ipykernel)",
   "language": "python",
   "name": "python3"
  },
  "language_info": {
   "codemirror_mode": {
    "name": "ipython",
    "version": 3
   },
   "file_extension": ".py",
   "mimetype": "text/x-python",
   "name": "python",
   "nbconvert_exporter": "python",
   "pygments_lexer": "ipython3",
   "version": "3.9.12"
  }
 },
 "nbformat": 4,
 "nbformat_minor": 5
}
