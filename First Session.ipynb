{
 "cells": [
  {
   "cell_type": "markdown",
   "id": "e2dbda9d",
   "metadata": {},
   "source": [
    "This is my first workbook for Xander"
   ]
  },
  {
   "cell_type": "code",
   "execution_count": 2,
   "id": "5b4ec81b",
   "metadata": {},
   "outputs": [
    {
     "data": {
      "text/plain": [
       "21"
      ]
     },
     "execution_count": 2,
     "metadata": {},
     "output_type": "execute_result"
    }
   ],
   "source": [
    "1 + 2 + 3 + \\\n",
    "4 + 5 + 6"
   ]
  },
  {
   "cell_type": "code",
   "execution_count": 6,
   "id": "84ecf892",
   "metadata": {},
   "outputs": [
    {
     "data": {
      "text/plain": [
       "str"
      ]
     },
     "execution_count": 6,
     "metadata": {},
     "output_type": "execute_result"
    }
   ],
   "source": [
    "ideas = \"Hello\"\n",
    "type(ideas)"
   ]
  },
  {
   "cell_type": "code",
   "execution_count": 7,
   "id": "b764c957",
   "metadata": {},
   "outputs": [
    {
     "data": {
      "text/plain": [
       "int"
      ]
     },
     "execution_count": 7,
     "metadata": {},
     "output_type": "execute_result"
    }
   ],
   "source": [
    "var34 = 34\n",
    "type(var34)"
   ]
  },
  {
   "cell_type": "code",
   "execution_count": 8,
   "id": "9aba521c",
   "metadata": {},
   "outputs": [
    {
     "data": {
      "text/plain": [
       "True"
      ]
     },
     "execution_count": 8,
     "metadata": {},
     "output_type": "execute_result"
    }
   ],
   "source": [
    "5 <= 7"
   ]
  },
  {
   "cell_type": "code",
   "execution_count": 10,
   "id": "c3d5ad6f",
   "metadata": {},
   "outputs": [
    {
     "data": {
      "text/plain": [
       "2"
      ]
     },
     "execution_count": 10,
     "metadata": {},
     "output_type": "execute_result"
    }
   ],
   "source": [
    "(5==5) + (6==6)"
   ]
  },
  {
   "cell_type": "code",
   "execution_count": 11,
   "id": "61030831",
   "metadata": {},
   "outputs": [
    {
     "name": "stdout",
     "output_type": "stream",
     "text": [
      "what is your age?55\n"
     ]
    },
    {
     "data": {
      "text/plain": [
       "'55'"
      ]
     },
     "execution_count": 11,
     "metadata": {},
     "output_type": "execute_result"
    }
   ],
   "source": [
    "input(\"what is your age?\")"
   ]
  },
  {
   "cell_type": "markdown",
   "id": "61b70d7f",
   "metadata": {},
   "source": [
    "q1"
   ]
  },
  {
   "cell_type": "code",
   "execution_count": 39,
   "id": "7d40da0d",
   "metadata": {},
   "outputs": [],
   "source": [
    "a = 10\n",
    "x = 5\n",
    "y = 2"
   ]
  },
  {
   "cell_type": "code",
   "execution_count": 65,
   "id": "b1a3dd12",
   "metadata": {},
   "outputs": [
    {
     "name": "stdout",
     "output_type": "stream",
     "text": [
      "1793.75\n"
     ]
    }
   ],
   "source": [
    "result = (((18*a**2) + (6*x) / (4*y) - 10))\n",
    "print(result)"
   ]
  },
  {
   "cell_type": "markdown",
   "id": "1d7b71ef",
   "metadata": {},
   "source": [
    "q2"
   ]
  },
  {
   "cell_type": "code",
   "execution_count": 55,
   "id": "9e9c44b8",
   "metadata": {},
   "outputs": [],
   "source": [
    "profile = []"
   ]
  },
  {
   "cell_type": "code",
   "execution_count": 56,
   "id": "e4cafd3a",
   "metadata": {},
   "outputs": [],
   "source": [
    "first_name = 'John'\n",
    "last_name = 'Doe'\n",
    "favorite_hobby = 'Python'\n",
    "sports_hobby = 'gym'\n",
    "age = 82"
   ]
  },
  {
   "cell_type": "code",
   "execution_count": 58,
   "id": "044995b6",
   "metadata": {},
   "outputs": [],
   "source": [
    "profile.append('John')\n",
    "profile.append('Doe')\n",
    "profile.append('Python')\n",
    "profile.append('gym')\n",
    "profile.append(82)"
   ]
  },
  {
   "cell_type": "code",
   "execution_count": null,
   "id": "f291311f",
   "metadata": {},
   "outputs": [],
   "source": []
  },
  {
   "cell_type": "code",
   "execution_count": 60,
   "id": "fd11011b",
   "metadata": {
    "scrolled": false
   },
   "outputs": [
    {
     "name": "stdout",
     "output_type": "stream",
     "text": [
      "['John', 'Doe', 'Python', 'gym', 82]\n"
     ]
    }
   ],
   "source": [
    "p1 = profile\n",
    "print(p1)"
   ]
  },
  {
   "cell_type": "markdown",
   "id": "e5689f09",
   "metadata": {},
   "source": [
    "q3"
   ]
  },
  {
   "cell_type": "code",
   "execution_count": 62,
   "id": "bb0cde04",
   "metadata": {},
   "outputs": [
    {
     "name": "stdout",
     "output_type": "stream",
     "text": [
      "{'Milk': 5, 'Onions': 6}\n"
     ]
    }
   ],
   "source": [
    "shopping_list = {\n",
    "    \"Milk\": 5, \"Onions\": 6 \n",
    "}\n",
    "print(shopping_list)"
   ]
  },
  {
   "cell_type": "markdown",
   "id": "3b7efd68",
   "metadata": {},
   "source": [
    "q4"
   ]
  },
  {
   "cell_type": "code",
   "execution_count": 50,
   "id": "529249a4",
   "metadata": {},
   "outputs": [
    {
     "data": {
      "text/plain": [
       "False"
      ]
     },
     "execution_count": 50,
     "metadata": {},
     "output_type": "execute_result"
    }
   ],
   "source": [
    "0.1 + 0.2 == 0.3"
   ]
  },
  {
   "cell_type": "code",
   "execution_count": 64,
   "id": "91546397",
   "metadata": {},
   "outputs": [
    {
     "name": "stdout",
     "output_type": "stream",
     "text": [
      "0.30000000000000004\n"
     ]
    },
    {
     "data": {
      "text/plain": [
       "False"
      ]
     },
     "execution_count": 64,
     "metadata": {},
     "output_type": "execute_result"
    }
   ],
   "source": [
    "print(0.1 + 0.2) == 0.3"
   ]
  },
  {
   "cell_type": "code",
   "execution_count": 67,
   "id": "80c4e448",
   "metadata": {},
   "outputs": [
    {
     "ename": "AssertionError",
     "evalue": "",
     "output_type": "error",
     "traceback": [
      "\u001b[1;31m---------------------------------------------------------------------------\u001b[0m",
      "\u001b[1;31mAssertionError\u001b[0m                            Traceback (most recent call last)",
      "Input \u001b[1;32mIn [67]\u001b[0m, in \u001b[0;36m<cell line: 1>\u001b[1;34m()\u001b[0m\n\u001b[1;32m----> 1\u001b[0m \u001b[38;5;28;01massert\u001b[39;00m \u001b[38;5;241m0.1\u001b[39m \u001b[38;5;241m+\u001b[39m \u001b[38;5;241m0.2\u001b[39m \u001b[38;5;241m==\u001b[39m \u001b[38;5;241m0.3\u001b[39m\n",
      "\u001b[1;31mAssertionError\u001b[0m: "
     ]
    }
   ],
   "source": [
    "assert 0.1 + 0.2 == 0.3"
   ]
  },
  {
   "cell_type": "code",
   "execution_count": null,
   "id": "ef69e31c",
   "metadata": {},
   "outputs": [],
   "source": []
  }
 ],
 "metadata": {
  "kernelspec": {
   "display_name": "Python 3 (ipykernel)",
   "language": "python",
   "name": "python3"
  },
  "language_info": {
   "codemirror_mode": {
    "name": "ipython",
    "version": 3
   },
   "file_extension": ".py",
   "mimetype": "text/x-python",
   "name": "python",
   "nbconvert_exporter": "python",
   "pygments_lexer": "ipython3",
   "version": "3.9.12"
  }
 },
 "nbformat": 4,
 "nbformat_minor": 5
}
